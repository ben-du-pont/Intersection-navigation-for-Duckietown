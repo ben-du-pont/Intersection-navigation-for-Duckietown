{
 "cells": [
  {
   "cell_type": "markdown",
   "metadata": {},
   "source": [
    "# Final Project"
   ]
  },
  {
   "cell_type": "markdown",
   "metadata": {},
   "source": [
    "\n",
    "## TODO: Add project description here"
   ]
  },
  {
   "cell_type": "code",
   "execution_count": 24,
   "metadata": {
    "pycharm": {
     "name": "#%%\n"
    }
   },
   "outputs": [
    {
     "name": "stdout",
     "output_type": "stream",
     "text": [
      "The autoreload extension is already loaded. To reload it, use:\n",
      "  %reload_ext autoreload\n"
     ]
    }
   ],
   "source": [
    "%load_ext autoreload\n",
    "%autoreload 2\n",
    "\n",
    "import os\n",
    "\n",
    "import numpy as np\n",
    "import cv2\n",
    "import matplotlib.pyplot as plt\n",
    "\n",
    "this_dir: str = os.path.abspath('')\n",
    "assets_dir: str = os.path.join(this_dir, \"..\", \"..\", \"assets\", \"notebooks\", \"project\")\n"
   ]
  },
  {
   "cell_type": "code",
   "execution_count": 25,
   "metadata": {},
   "outputs": [],
   "source": [
    "## Real Duckiebot only\n",
    "\n",
    "import os\n",
    "from duckietown.types import CameraParameters\n",
    "\n",
    "# TODO: change this to the name of your Duckiebot\n",
    "VEHICLE_NAME: str = \"yanniduck\"\n",
    "\n",
    "# TODO: change this to your duckiebot's camera parameters\n",
    "CAMERA_PARAMETERS: CameraParameters = {\n",
    "    \"width\": 640,\n",
    "    \"height\": 480,\n",
    "    \"K\": np.reshape(\n",
    "        [\n",
    "            295.79606866959824,\n",
    "            0.0,\n",
    "            321.2621599038631,\n",
    "            0.0,\n",
    "            299.5389048862878,\n",
    "            241.73616515312332,\n",
    "            0.0,\n",
    "            0.0,\n",
    "            1.0,\n",
    "        ],\n",
    "        (3, 3),\n",
    "    ),\n",
    "    \"D\": [\n",
    "        -0.23543978771661125,\n",
    "        0.03637781479419574,\n",
    "        -0.0033069818601306755,\n",
    "        -0.0012140708179525926,\n",
    "        0.0,\n",
    "    ],\n",
    "    \"P\": np.reshape(\n",
    "        [\n",
    "            201.14027404785156,\n",
    "            0.0,\n",
    "            319.5586620845679,\n",
    "            0.0,\n",
    "            0.0,\n",
    "            239.74398803710938,\n",
    "            237.60151004037834,\n",
    "            0.0,\n",
    "            0.0,\n",
    "            0.0,\n",
    "            1.0,\n",
    "            0.0,\n",
    "        ],\n",
    "        (3, 4),\n",
    "    ),\n",
    "    \"H\": np.reshape(\n",
    "        [\n",
    "            8.56148231e-03,\n",
    "            2.22480148e-01,\n",
    "            4.24318934e-01,\n",
    "            -5.67022044e-01,\n",
    "            -1.13258040e-03,\n",
    "            6.81113839e-04,\n",
    "            5.80917161e-02,\n",
    "            4.35079347e00,\n",
    "            1.0,\n",
    "        ],\n",
    "        (3, 3),\n",
    "    ),\n",
    "}\n",
    "\n",
    "\n",
    "## Duckiematrix only\n",
    "# import os\n",
    "# os.environ[\"DUCKIEMATRIX_ENGINE_HOST\"] = \"172.17.0.1\"\n",
    "# VEHICLE_NAME: str = \"map_0/vehicle_0\""
   ]
  },
  {
   "cell_type": "code",
   "execution_count": 26,
   "metadata": {},
   "outputs": [
    {
     "name": "stderr",
     "output_type": "stream",
     "text": [
      "YOLOv5 🚀 2023-12-17 Python-3.8.10 torch-2.1.1+cu121 CPU\n",
      "\n",
      "Fusing layers... \n",
      "Model summary: 157 layers, 1760518 parameters, 0 gradients, 4.1 GFLOPs\n",
      "Adding AutoShape... \n"
     ]
    },
    {
     "name": "stdout",
     "output_type": "stream",
     "text": [
      "\n",
      "\n",
      "Device Used: cpu\n",
      "Using ROS...\n",
      "Using ROS...\n",
      "STARTED DETECTION COMPONENT\n"
     ]
    },
    {
     "data": {
      "image/png": "",
      "text/plain": [
       "<IPython.core.display.Image object>"
      ]
     },
     "metadata": {},
     "output_type": "display_data"
    },
    {
     "name": "stderr",
     "output_type": "stream",
     "text": [
      "YOLOv5 🚀 2023-12-17 Python-3.8.10 torch-2.1.1+cu121 CPU\n",
      "\n",
      "Fusing layers... \n"
     ]
    },
    {
     "name": "stdout",
     "output_type": "stream",
     "text": [
      "Using ROS...\n"
     ]
    },
    {
     "name": "stderr",
     "output_type": "stream",
     "text": [
      "Model summary: 157 layers, 1760518 parameters, 0 gradients, 4.1 GFLOPs\n",
      "Adding AutoShape... \n"
     ]
    },
    {
     "name": "stdout",
     "output_type": "stream",
     "text": [
      "\n",
      "\n",
      "Device Used: cpu\n",
      "State machine Initialised, at state:  lane_following\n"
     ]
    }
   ],
   "source": [
    "from final_project.components import StateMachine\n",
    "\n",
    "state_machine: StateMachine = StateMachine(camera_parameters=CAMERA_PARAMETERS, vehicle_name=VEHICLE_NAME)\n"
   ]
  },
  {
   "cell_type": "code",
   "execution_count": 27,
   "metadata": {},
   "outputs": [
    {
     "name": "stderr",
     "output_type": "stream",
     "text": [
      "WARNING:PIDLaneController:Heading error too large: -1.0680178482019178 > 0.5235987755982988, capped.\n",
      "WARNING:PIDLaneController:Heading error too large: -1.1550361548989099 > 0.5235987755982988, capped.\n",
      "WARNING:PIDLaneController:Heading error too large: -1.265363707695889 > 0.5235987755982988, capped.\n",
      "WARNING:PIDLaneController:Heading error too large: -1.265363707695889 > 0.5235987755982988, capped.\n",
      "WARNING:PIDLaneController:Heading error too large: -1.265363707695889 > 0.5235987755982988, capped.\n",
      "WARNING:PIDLaneController:Heading error too large: -1.265363707695889 > 0.5235987755982988, capped.\n"
     ]
    },
    {
     "name": "stdout",
     "output_type": "stream",
     "text": [
      "Starting lane following\n"
     ]
    },
    {
     "name": "stderr",
     "output_type": "stream",
     "text": [
      "WARNING:PIDLaneController:Heading error too large: -1.265363707695889 > 0.5235987755982988, capped.\n",
      "WARNING:PIDLaneController:Heading error too large: -1.265363707695889 > 0.5235987755982988, capped.\n",
      "WARNING:PIDLaneController:Heading error too large: -1.265363707695889 > 0.5235987755982988, capped.\n",
      "WARNING:PIDLaneController:Heading error too large: -1.265363707695889 > 0.5235987755982988, capped.\n",
      "WARNING:PIDLaneController:Heading error too large: -1.265363707695889 > 0.5235987755982988, capped.\n",
      "WARNING:PIDLaneController:Heading error too large: 0.741764932097591 > 0.5235987755982988, capped.\n",
      "WARNING:PIDLaneController:Heading error too large: -1.1757627886708224 > 0.5235987755982988, capped.\n",
      "WARNING:PIDLaneController:Heading error too large: 0.8727223842229597 > 0.5235987755982988, capped.\n",
      "WARNING:PIDLaneController:Heading error too large: -0.738532840890193 > 0.5235987755982988, capped.\n"
     ]
    },
    {
     "ename": "AttributeError",
     "evalue": "'StateMachine' object has no attribute 'segments'",
     "output_type": "error",
     "traceback": [
      "\u001b[0;31m---------------------------------------------------------------------------\u001b[0m",
      "\u001b[0;31mAttributeError\u001b[0m                            Traceback (most recent call last)",
      "Cell \u001b[0;32mIn[27], line 1\u001b[0m\n\u001b[0;32m----> 1\u001b[0m \u001b[43mstate_machine\u001b[49m\u001b[38;5;241;43m.\u001b[39;49m\u001b[43mrun\u001b[49m\u001b[43m(\u001b[49m\u001b[43m)\u001b[49m\n",
      "File \u001b[0;32m/code/intersection-navigation/packages/final_project/components.py:784\u001b[0m, in \u001b[0;36mStateMachine.run\u001b[0;34m(self)\u001b[0m\n\u001b[1;32m    782\u001b[0m \u001b[39mself\u001b[39m\u001b[39m.\u001b[39mintersection_detection\u001b[39m.\u001b[39mstop()\n\u001b[1;32m    783\u001b[0m \u001b[39m# rendering\u001b[39;00m\n\u001b[0;32m--> 784\u001b[0m \u001b[39mself\u001b[39;49m\u001b[39m.\u001b[39;49msegments\u001b[39m.\u001b[39mstop()\n\u001b[1;32m    785\u001b[0m \u001b[39mself\u001b[39m\u001b[39m.\u001b[39mbelief\u001b[39m.\u001b[39mstop()\n\u001b[1;32m    786\u001b[0m \u001b[39mself\u001b[39m\u001b[39m.\u001b[39mleds\u001b[39m.\u001b[39mstop()\n",
      "\u001b[0;31mAttributeError\u001b[0m: 'StateMachine' object has no attribute 'segments'"
     ]
    }
   ],
   "source": [
    "state_machine.run()\n"
   ]
  },
  {
   "cell_type": "code",
   "execution_count": null,
   "metadata": {},
   "outputs": [],
   "source": [
    "state_machine.motors.start()"
   ]
  },
  {
   "cell_type": "code",
   "execution_count": null,
   "metadata": {},
   "outputs": [],
   "source": []
  }
 ],
 "metadata": {
  "celltoolbar": "Raw Cell Format",
  "kernelspec": {
   "display_name": "Python 3.8.10 64-bit",
   "language": "python",
   "name": "python3"
  },
  "language_info": {
   "codemirror_mode": {
    "name": "ipython",
    "version": 3
   },
   "file_extension": ".py",
   "mimetype": "text/x-python",
   "name": "python",
   "nbconvert_exporter": "python",
   "pygments_lexer": "ipython3",
   "version": "3.8.10"
  },
  "vscode": {
   "interpreter": {
    "hash": "916dbcbb3f70747c44a77c7bcd40155683ae19c65e1c03b4aa3499c5328201f1"
   }
  }
 },
 "nbformat": 4,
 "nbformat_minor": 4
}
